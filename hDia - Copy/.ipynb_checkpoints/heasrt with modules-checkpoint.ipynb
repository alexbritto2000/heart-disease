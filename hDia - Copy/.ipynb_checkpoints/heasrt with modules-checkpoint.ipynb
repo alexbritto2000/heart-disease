{
 "cells": [
  {
   "cell_type": "code",
   "execution_count": 1,
   "metadata": {},
   "outputs": [],
   "source": [
    "#header file declaraction\n",
    "import pickle#make a dummy file\n",
    "import pandas as pd\n",
    "from sklearn.model_selection import train_test_split\n",
    "from sklearn.linear_model import LogisticRegression\n",
    "import sklearn\n",
    "import numpy as np\n"
   ]
  },
  {
   "cell_type": "code",
   "execution_count": 6,
   "metadata": {},
   "outputs": [],
   "source": [
    "#reading the two datasets for heart and diabetes\n",
    "dh=pd.read_csv(\"heart.csv\")\n",
    "dd=pd.read_csv(\"diabetes.csv\")"
   ]
  },
  {
   "cell_type": "code",
   "execution_count": null,
   "metadata": {},
   "outputs": [],
   "source": [
    "dh"
   ]
  },
  {
   "cell_type": "code",
   "execution_count": null,
   "metadata": {},
   "outputs": [],
   "source": [
    "dd"
   ]
  },
  {
   "cell_type": "code",
   "execution_count": 7,
   "metadata": {},
   "outputs": [],
   "source": [
    "#feature selection for heart\n",
    "di=dh[[\"male\",\"age\",\"currentSmoker\",\"cigsPerDay\",\"prevalentStroke\",\"prevalentHyp\",\"diabetes\",\"totChol\",\"sysBP\",\"diaBP\",\"heartRate\",\"glucose\"]]\n",
    "do=dh.iloc[:,-1]\n",
    "#featuire selection for diabetes\n",
    "ddi=dd.iloc[:,1:-1]\n",
    "ddo=dd.iloc[:,-1]"
   ]
  },
  {
   "cell_type": "code",
   "execution_count": 8,
   "metadata": {},
   "outputs": [
    {
     "data": {
      "text/plain": [
       "Text(0,0.5,'number')"
      ]
     },
     "execution_count": 8,
     "metadata": {},
     "output_type": "execute_result"
    }
   ],
   "source": [
    "import matplotlib.pyplot as plt\n",
    "import pandas as pd\n",
    "num=pd.value_counts(dh['TenYearCHD'],sort=True).sort_index()\n",
    "num.plot(kind='bar')\n",
    "plt.title(\"HEART DISEASES\")\n",
    "plt.xlabel('HEART DETAILS')\n",
    "plt.ylabel('number')"
   ]
  },
  {
   "cell_type": "code",
   "execution_count": 9,
   "metadata": {},
   "outputs": [
    {
     "data": {
      "text/plain": [
       "Text(0,0.5,'number')"
      ]
     },
     "execution_count": 9,
     "metadata": {},
     "output_type": "execute_result"
    },
    {
     "data": {
      "image/png": "[encoded data removed]",
      "text/plain": [
       "<Figure size 432x288 with 1 Axes>"
      ]
     },
     "metadata": {
      "needs_background": "light"
     },
     "output_type": "display_data"
    }
   ],
   "source": [
    "import matplotlib.pyplot as  plt\n",
    "#num=pd.value_counts\n",
    "num=pd.value_counts(dd['Outcome'],sort=True).sort_index()\n",
    "num.plot(kind='bar')\n",
    "plt.title(\"DIABETES\")\n",
    "plt.xlabel('DIABETES')\n",
    "plt.ylabel('number')"
   ]
  },
  {
   "cell_type": "code",
   "execution_count": null,
   "metadata": {},
   "outputs": [],
   "source": [
    "dh.info()"
   ]
  },
  {
   "cell_type": "code",
   "execution_count": null,
   "metadata": {},
   "outputs": [],
   "source": [
    "dd.info()"
   ]
  },
  {
   "cell_type": "code",
   "execution_count": null,
   "metadata": {},
   "outputs": [],
   "source": [
    "#thus heart module contains null values\n",
    "from sklearn.preprocessing import LabelEncoder\n",
    "import warnings \n",
    "warnings.filterwarnings('ignore')\n",
    "#da=di.fillna(1,inplace=True)\n",
    "\n",
    "da=LabelEncoder()\n",
    "\n",
    "di[\"cigsPerDay\"]=da.fit_transform(di[[\"cigsPerDay\"]])\n",
    "di[\"totChol\"]=da.fit_transform(di[[\"totChol\"]])\n",
    "di[\"heartRate\"]=da.fit_transform(di[[\"heartRate\"]])\n",
    "di[\"glucose\"]=da.fit_transform(di[[\"glucose\"]])"
   ]
  },
  {
   "cell_type": "code",
   "execution_count": null,
   "metadata": {},
   "outputs": [],
   "source": [
    "di.isnull().sum()\n",
    "do.isnull().sum()\n",
    "ddi.isnull().sum()\n",
    "ddo.isnull().sum()"
   ]
  },
  {
   "cell_type": "code",
   "execution_count": null,
   "metadata": {},
   "outputs": [],
   "source": [
    "#for heart dieases training set\n",
    "from sklearn.model_selection import train_test_split\n",
    "x_train,x_test,y_train,y_test=train_test_split(di,do,test_size=0.2)\n",
    "\n",
    "#for diabetes\n",
    "x1_train,x1_test,y1_train,y1_test=train_test_split(ddi,ddo,test_size=0.2)\n"
   ]
  },
  {
   "cell_type": "code",
   "execution_count": null,
   "metadata": {},
   "outputs": [],
   "source": [
    "import warnings \n",
    "warnings.filterwarnings('ignore')\n",
    "#for heart diseases\n",
    "from sklearn.linear_model import LogisticRegression\n",
    "lg=LogisticRegression()\n",
    "lg.fit(x_train,y_train)\n",
    "lg.predict(x_test)\n",
    "lg.score(x_test,y_test)\n",
    "\n",
    "\n",
    "#for diabets\n",
    "\n",
    "from sklearn.linear_model import LogisticRegression\n",
    "lg1=LogisticRegression()\n",
    "lg1.fit(x1_train,y1_train)\n",
    "lg1.predict(x1_test)\n",
    "lg1.score(x1_test,y1_test)\n",
    "\n",
    "\n"
   ]
  },
  {
   "cell_type": "code",
   "execution_count": null,
   "metadata": {},
   "outputs": [],
   "source": [
    "#for heart diseases\n",
    "from sklearn.ensemble import AdaBoostClassifier\n",
    "a=AdaBoostClassifier()\n",
    "a.fit(x_train,y_train)\n",
    "a.predict(x_test)\n",
    "f=a.score(x_test,y_test)\n",
    "print(\"heart AB Score:\",f)\n",
    "\n",
    "#for diabets\n",
    "\n",
    "from sklearn.ensemble import AdaBoostClassifier\n",
    "a1=AdaBoostClassifier()\n",
    "a1.fit(x1_train,y1_train)\n",
    "a1.predict(x1_test)\n",
    "s=a1.score(x1_test,y1_test)\n",
    "print(\"Diabetes AB Score:\",s)\n"
   ]
  },
  {
   "cell_type": "code",
   "execution_count": null,
   "metadata": {},
   "outputs": [],
   "source": [
    "#for heart diseases\n",
    "from sklearn.ensemble import RandomForestClassifier\n",
    "lg=RandomForestClassifier()\n",
    "lg.fit(x_train,y_train)\n",
    "lg.predict(x_test)\n",
    "t=lg.score(x_test,y_test)\n",
    "print(\"heart RF Score:\",t)\n",
    "\n",
    "#for diabets\n",
    "\n",
    "from sklearn.ensemble import RandomForestClassifier\n",
    "lg1=RandomForestClassifier()\n",
    "lg1.fit(x1_train,y1_train)\n",
    "lg1.predict(x1_test)\n",
    "r=lg1.score(x1_test,y1_test)\n",
    "print(\"Diabetes  Score:\",r)\n"
   ]
  },
  {
   "cell_type": "code",
   "execution_count": null,
   "metadata": {},
   "outputs": [],
   "source": [
    "import matplotlib.pyplot as plt\n",
    "plt.title(\"RANDOM FOREST\")\n",
    "plt.xlabel('ACCURACY VALUES')\n",
    "plt.ylabel('RATINGS')\n",
    "plt.hist(r)"
   ]
  },
  {
   "cell_type": "code",
   "execution_count": null,
   "metadata": {},
   "outputs": [],
   "source": [
    "#for heart diseases\n",
    "from sklearn.svm import SVC\n",
    "a=SVC()\n",
    "a.fit(x_train,y_train)\n",
    "a.predict(x_test)\n",
    "f=a.score(x_test,y_test)\n",
    "print(\"heart SVC Score:\",f)\n",
    "\n",
    "#for diabets\n",
    "from sklearn.svm import SVC\n",
    "a1=SVC()\n",
    "a1.fit(x1_train,y1_train)\n",
    "a1.predict(x1_test)\n",
    "s=a1.score(x1_test,y1_test)\n",
    "print(\"Diabetes SVC Score:\",s)\n",
    "\n",
    "import matplotlib.pyplot as plt\n",
    "plt.title(\"SVM\")\n",
    "plt.xlabel('ACCURACY VALUES')\n",
    "plt.ylabel('RATINGS')\n",
    "\n",
    "plt.hist(s)\n"
   ]
  },
  {
   "cell_type": "code",
   "execution_count": null,
   "metadata": {},
   "outputs": [],
   "source": [
    "with open(\"heart.pickle\",\"wb\") as f:\n",
    "    pickle.dump(lg,f)\n",
    "with open(\"diabetes.pickle\",\"wb\") as g:\n",
    "    pickle.dump(lg1,g)"
   ]
  },
  {
   "cell_type": "code",
   "execution_count": 3,
   "metadata": {},
   "outputs": [
    {
     "ename": "NameError",
     "evalue": "name 'ddi' is not defined",
     "output_type": "error",
     "traceback": [
      "\u001b[1;31m---------------------------------------------------------------------------\u001b[0m",
      "\u001b[1;31mNameError\u001b[0m                                 Traceback (most recent call last)",
      "\u001b[1;32m<ipython-input-3-64567d5f86d1>\u001b[0m in \u001b[0;36m<module>\u001b[1;34m()\u001b[0m\n\u001b[1;32m----> 1\u001b[1;33m \u001b[0mddi\u001b[0m\u001b[1;33m\u001b[0m\u001b[0m\n\u001b[0m",
      "\u001b[1;31mNameError\u001b[0m: name 'ddi' is not defined"
     ]
    }
   ],
   "source": [
    "ddi"
   ]
  },
  {
   "cell_type": "code",
   "execution_count": null,
   "metadata": {
    "scrolled": true
   },
   "outputs": [],
   "source": [
    "di"
   ]
  },
  {
   "cell_type": "code",
   "execution_count": null,
   "metadata": {},
   "outputs": [],
   "source": []
  },
  {
   "cell_type": "code",
   "execution_count": null,
   "metadata": {},
   "outputs": [],
   "source": []
  }
 ],
 "metadata": {
  "kernelspec": {
   "display_name": "Python 3",
   "language": "python",
   "name": "python3"
  },
  "language_info": {
   "codemirror_mode": {
    "name": "ipython",
    "version": 3
   },
   "file_extension": ".py",
   "mimetype": "text/x-python",
   "name": "python",
   "nbconvert_exporter": "python",
   "pygments_lexer": "ipython3",
   "version": "3.7.0"
  }
 },
 "nbformat": 4,
 "nbformat_minor": 2
}
